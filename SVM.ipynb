{
 "cells": [
  {
   "cell_type": "code",
   "execution_count": 3,
   "metadata": {},
   "outputs": [
    {
     "name": "stdout",
     "output_type": "stream",
     "text": [
      "(2968, 30)\n"
     ]
    }
   ],
   "source": [
    "import numpy as np\n",
    "f1 = open(\"D:/qiaohuijuan/test/enhancer/features/DAC/DAC5.csv\",\"rb\")\n",
    "features1 =np.loadtxt(f1,delimiter=',',skiprows=0)\n",
    "f1.close()\n",
    "features = np.array(features1)\n",
    "print(features.shape)"
   ]
  },
  {
   "cell_type": "code",
   "execution_count": 4,
   "metadata": {},
   "outputs": [
    {
     "name": "stdout",
     "output_type": "stream",
     "text": [
      "(2968,)\n"
     ]
    }
   ],
   "source": [
    "# Read labels\n",
    "f1 = open(\"D:/qiaohuijuan/test/enhancer/label/label1.csv\",\"rb\")\n",
    "target =np.loadtxt(f1,delimiter=',',skiprows=0)\n",
    "f1.close()\n",
    "target = np.array(target)\n",
    "print(target.shape)"
   ]
  },
  {
   "cell_type": "code",
   "execution_count": 5,
   "metadata": {},
   "outputs": [],
   "source": [
    "import numpy as np\n",
    "from sklearn.svm import SVC\n",
    "from sklearn.model_selection import cross_val_score\n",
    "from sklearn.model_selection import KFold\n",
    "from sklearn.model_selection import GridSearchCV"
   ]
  },
  {
   "cell_type": "code",
   "execution_count": 6,
   "metadata": {
    "scrolled": false
   },
   "outputs": [
    {
     "name": "stdout",
     "output_type": "stream",
     "text": [
      "{'svm__C': 2048, 'svm__gamma': 0.00390625}\n",
      "0.7688472563472563\n"
     ]
    }
   ],
   "source": [
    "from sklearn.svm import SVC\n",
    "from sklearn.model_selection import GridSearchCV\n",
    "from sklearn.preprocessing import MinMaxScaler\n",
    "from sklearn.pipeline import Pipeline\n",
    "\n",
    "pipe = Pipeline([(\"scaler\", MinMaxScaler()), \n",
    "                 (\"svm\",SVC(decision_function_shape=\"ovo\",kernel=\"rbf\",probability = True,random_state = 21))])\n",
    "\n",
    "param_grid = {\"svm__C\":[pow(2, k) for k in range(-5, 15)],\n",
    "             \"svm__gamma\":[pow(2, k) for k in range(-15, 5)]}\n",
    "\n",
    "grid_search = GridSearchCV(pipe, param_grid, cv=10,n_jobs = -1)\n",
    "grid_search.fit(features,target)\n",
    "print(grid_search.best_params_)\n",
    "print(grid_search.best_score_)"
   ]
  },
  {
   "cell_type": "code",
   "execution_count": null,
   "metadata": {},
   "outputs": [],
   "source": []
  }
 ],
 "metadata": {
  "kernelspec": {
   "display_name": "Python 3",
   "language": "python",
   "name": "python3"
  },
  "language_info": {
   "codemirror_mode": {
    "name": "ipython",
    "version": 3
   },
   "file_extension": ".py",
   "mimetype": "text/x-python",
   "name": "python",
   "nbconvert_exporter": "python",
   "pygments_lexer": "ipython3",
   "version": "3.7.0"
  }
 },
 "nbformat": 4,
 "nbformat_minor": 2
}
